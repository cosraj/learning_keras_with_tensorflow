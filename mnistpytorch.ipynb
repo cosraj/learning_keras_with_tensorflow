{
  "nbformat": 4,
  "nbformat_minor": 0,
  "metadata": {
    "colab": {
      "provenance": [],
      "authorship_tag": "ABX9TyMI5OIITHbaEI81pyqxbo+i",
      "include_colab_link": true
    },
    "kernelspec": {
      "name": "python3",
      "display_name": "Python 3"
    },
    "language_info": {
      "name": "python"
    }
  },
  "cells": [
    {
      "cell_type": "markdown",
      "metadata": {
        "id": "view-in-github",
        "colab_type": "text"
      },
      "source": [
        "<a href=\"https://colab.research.google.com/github/cosraj/learning_keras_with_tensorflow/blob/main/mnistpytorch.ipynb\" target=\"_parent\"><img src=\"https://colab.research.google.com/assets/colab-badge.svg\" alt=\"Open In Colab\"/></a>"
      ]
    },
    {
      "cell_type": "markdown",
      "source": [
        "use !pip list to see the list of python modules installed. From the list, we can see torchvision's version 0.16.+ which is the latest version. So, we can continue with it. If we need an upgrade, we should uninstall all torch modules like torchaudio, torchvision, torchtext etc and then install them all using pip install"
      ],
      "metadata": {
        "id": "JlW8LNvtTgHk"
      }
    },
    {
      "cell_type": "code",
      "execution_count": null,
      "metadata": {
        "id": "sd9yyvmKSzst"
      },
      "outputs": [],
      "source": [
        "!pip list\n"
      ]
    },
    {
      "cell_type": "markdown",
      "source": [
        "PyTorch has two primitives to work with data:  **torch.utils.data.DataLoader** and **torch.utils.data.Dataset**. Dataset stores the samples and their corresponding labels, and DataLoader wraps an iterable around the Dataset.\n",
        "\n",
        "In tensorflow, I had to split train and test data explicitly. Here, datasets has an argument \"train\" which can be set to true or false to get training or testing data\n",
        "\n",
        "argument \"transform\" is used to pass a function that is used to transform a PIL Image(Python Image Library) to a random library"
      ],
      "metadata": {
        "id": "HBtgMfj9VSHJ"
      }
    },
    {
      "cell_type": "code",
      "source": [
        "import torch\n",
        "from torch import nn\n",
        "from torch.utils.data import DataLoader\n",
        "from torchvision import datasets\n",
        "from torchvision.transforms import ToTensor\n",
        "\n",
        "# Download training data from open datasets.\n",
        "training_data = datasets.FashionMNIST(\n",
        "    root=\"data\",\n",
        "    train=True,\n",
        "    download=True,\n",
        "    transform=ToTensor(),\n",
        ")\n",
        "\n",
        "# Download test data from open datasets.\n",
        "test_data = datasets.FashionMNIST(\n",
        "    root=\"data\",\n",
        "    train=False,\n",
        "    download=True,\n",
        "    transform=ToTensor(),\n",
        ")"
      ],
      "metadata": {
        "id": "VrRRySPgVHqg"
      },
      "execution_count": null,
      "outputs": []
    },
    {
      "cell_type": "markdown",
      "source": [
        "type(training_data)"
      ],
      "metadata": {
        "id": "CZne3CLuXGKN"
      }
    },
    {
      "cell_type": "markdown",
      "source": [],
      "metadata": {
        "id": "IsnxVdpITgFT"
      }
    },
    {
      "cell_type": "code",
      "source": [
        "type(training_data)\n",
        "print(training_data)"
      ],
      "metadata": {
        "colab": {
          "base_uri": "https://localhost:8080/"
        },
        "id": "-frWoxMNXKu0",
        "outputId": "ae830425-4c28-4b41-b4ff-830048dcd3d4"
      },
      "execution_count": 5,
      "outputs": [
        {
          "output_type": "stream",
          "name": "stdout",
          "text": [
            "Dataset FashionMNIST\n",
            "    Number of datapoints: 60000\n",
            "    Root location: data\n",
            "    Split: Train\n",
            "    StandardTransform\n",
            "Transform: ToTensor()\n"
          ]
        }
      ]
    }
  ]
}